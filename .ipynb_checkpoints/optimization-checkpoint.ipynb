{
 "cells": [
  {
   "cell_type": "markdown",
   "metadata": {},
   "source": [
    "# Newton's method, Gradient Descent and Autograd using Python"
   ]
  },
  {
   "cell_type": "code",
   "execution_count": 20,
   "metadata": {},
   "outputs": [],
   "source": [
    "import numpy as np\n",
    "import pandas as pd\n",
    "import math"
   ]
  },
  {
   "cell_type": "markdown",
   "metadata": {},
   "source": [
    "### Recall newton's method"
   ]
  },
  {
   "cell_type": "markdown",
   "metadata": {},
   "source": [
    "\\begin{equation}\n",
    "x_{n+1} = x_n -\\dfrac{f'(x_n)}{f''(x_{n+1})}\n",
    "\\end{equation}\n",
    "\n"
   ]
  },
  {
   "cell_type": "code",
   "execution_count": 2,
   "metadata": {},
   "outputs": [],
   "source": [
    "def newton(x):\n",
    "    return x-df(x)/ddf(x)"
   ]
  },
  {
   "cell_type": "markdown",
   "metadata": {},
   "source": [
    "### Example:\n",
    "We will use this function  \n",
    "\\begin{equation}\n",
    "f(x)= x^3-4x.\n",
    "\\end{equation}\n",
    "This has a derivative \n",
    "$f'(x)=3x^2-4$ and $f''(x)=6x.$ \n",
    "\n",
    "We will find a local minimizer of $f$, which we can see that occurs when $x=\\sqrt{\\frac{4}{3} } \\approx 1.1547 .$"
   ]
  },
  {
   "cell_type": "code",
   "execution_count": 3,
   "metadata": {},
   "outputs": [],
   "source": [
    "f =  lambda x: x**3-4*x\n",
    "df = lambda x:3*x**2-4\n",
    "ddf = lambda x:6*x"
   ]
  },
  {
   "cell_type": "code",
   "execution_count": 4,
   "metadata": {},
   "outputs": [
    {
     "name": "stdout",
     "output_type": "stream",
     "text": [
      "2.0\n",
      "1.3333333333333335\n",
      "1.1666666666666667\n",
      "1.1547619047619047\n",
      "1.1547005400098185\n",
      "1.1547005383792515\n",
      "1.1547005383792515\n",
      "1.1547005383792515\n",
      "1.1547005383792515\n",
      "1.1547005383792515\n",
      "1.1547005383792515\n"
     ]
    },
    {
     "data": {
      "text/plain": [
       "1.1547005383792515"
      ]
     },
     "execution_count": 4,
     "metadata": {},
     "output_type": "execute_result"
    }
   ],
   "source": [
    "x = 2.0\n",
    "print(x)\n",
    "for k in range(10):\n",
    "    x = newton(x)\n",
    "    print(x)\n",
    "math.sqrt(4/3)"
   ]
  },
  {
   "cell_type": "markdown",
   "metadata": {},
   "source": [
    "## Multidimensional case"
   ]
  },
  {
   "cell_type": "markdown",
   "metadata": {},
   "source": [
    "Newton's method for multidimensional case is\n",
    "$$\n",
    "x_{n+1} =x_{n}-(D^2f(x))^{-1}Df(x)\n",
    "$$"
   ]
  },
  {
   "cell_type": "code",
   "execution_count": 5,
   "metadata": {},
   "outputs": [],
   "source": [
    "from numpy.linalg import inv\n",
    "\n",
    "def newtonmulti(x):\n",
    "    return x-df(x)@inv(ddf(x)) # we can use np.dot"
   ]
  },
  {
   "cell_type": "markdown",
   "metadata": {},
   "source": [
    "### Example 2:\n",
    "We will use this function  \n",
    "\\begin{equation}\n",
    "f(x,y)= x^2y-2xy^2+3xy+4.\n",
    "\\end{equation}\n",
    "The first and second derivatives are:\n",
    " $Df(x)=  \\begin{bmatrix} \n",
    " y(2x-2y+3) &x(x-4y+3)\n",
    " \\end{bmatrix} $\n",
    " \n",
    " and\n",
    " $D^2f(x)=  \\begin{bmatrix} \n",
    " 2y &  2x-4y+3\\\\ 2x-4y+3 &-4x\n",
    " \\end{bmatrix} $"
   ]
  },
  {
   "cell_type": "code",
   "execution_count": 9,
   "metadata": {},
   "outputs": [],
   "source": [
    "f =  lambda x: x[0]**2*x[1]-2*x[0]*x[1]**2+3*x[0]*x[1]+4\n",
    "df = lambda x:np.array([x[1]*(2*x[0]-2*x[1]+3),x[0]*(x[0]-4*x[1]+3)])\n",
    "ddf = lambda x:np.array([[2*x[1],2*x[0]-4*x[1]+3], [2*x[0]-4*x[1]+3,-4*x[0]]])"
   ]
  },
  {
   "cell_type": "code",
   "execution_count": 10,
   "metadata": {},
   "outputs": [
    {
     "name": "stdout",
     "output_type": "stream",
     "text": [
      "[-1.5  0.8] \n",
      "\n",
      "4.120000000000001 \n",
      "\n",
      "[-1.28  2.55] \n",
      "\n",
      "[[ 1.6 -3.2]\n",
      " [-3.2  6. ]] \n",
      "\n"
     ]
    }
   ],
   "source": [
    "x = np.array([-1.5,0.8])\n",
    "print(x,'\\n')\n",
    "print(f(x),'\\n')\n",
    "print(df(x),'\\n')\n",
    "print(ddf(x),'\\n')"
   ]
  },
  {
   "cell_type": "code",
   "execution_count": 11,
   "metadata": {},
   "outputs": [
    {
     "name": "stdout",
     "output_type": "stream",
     "text": [
      "[-0.75   0.775]\n",
      "[-1.18241627  0.33187799]\n",
      "[-1.0147222   0.47894356]\n",
      "[-1.00068455  0.49958848]\n",
      "[-0.99999992  0.49999986]\n",
      "[-1.   0.5]\n",
      "[-1.   0.5]\n",
      "[-1.   0.5]\n",
      "[-1.   0.5]\n",
      "[-1.   0.5]\n"
     ]
    }
   ],
   "source": [
    "for k in range(10):\n",
    "    x =  newtonmulti(x)\n",
    "    print(x)"
   ]
  },
  {
   "cell_type": "markdown",
   "metadata": {},
   "source": [
    "## Gradient Descent"
   ]
  },
  {
   "cell_type": "markdown",
   "metadata": {},
   "source": [
    "Recall gradien descent\n"
   ]
  },
  {
   "cell_type": "code",
   "execution_count": 12,
   "metadata": {},
   "outputs": [],
   "source": [
    "def gradient_descent(x,alpha):\n",
    "    return x-alpha*df(x)"
   ]
  },
  {
   "cell_type": "code",
   "execution_count": 13,
   "metadata": {},
   "outputs": [],
   "source": [
    "f =  lambda x: x[0]**2*x[1]-2*x[0]*x[1]**2+3*x[0]*x[1]+4\n",
    "df = lambda x:np.array([x[1]*(2*x[0]-2*x[1]+3),x[0]*(x[0]-4*x[1]+3)])"
   ]
  },
  {
   "cell_type": "code",
   "execution_count": 25,
   "metadata": {},
   "outputs": [
    {
     "name": "stdout",
     "output_type": "stream",
     "text": [
      "[-1.   0.5]\n"
     ]
    }
   ],
   "source": [
    "x = np.array([-1.5,0.8])\n",
    "for k in range(500):\n",
    "    x =  gradient_descent(x,0.1)\n",
    "print(x)"
   ]
  },
  {
   "cell_type": "markdown",
   "metadata": {},
   "source": [
    "## Autograd"
   ]
  },
  {
   "cell_type": "code",
   "execution_count": 23,
   "metadata": {},
   "outputs": [],
   "source": [
    "from autograd import grad"
   ]
  },
  {
   "cell_type": "code",
   "execution_count": 27,
   "metadata": {},
   "outputs": [
    {
     "name": "stdout",
     "output_type": "stream",
     "text": [
      "[-1.   0.5]\n"
     ]
    }
   ],
   "source": [
    "f =  lambda x: x[0]**2*x[1]-2*x[0]*x[1]**2+3*x[0]*x[1]+4\n",
    "df = grad(f)\n",
    "x = np.array([-1.5,0.8])\n",
    "for k in range(500):\n",
    "    x =  gradient_descent(x,0.1)\n",
    "print(x)"
   ]
  },
  {
   "cell_type": "markdown",
   "metadata": {},
   "source": [
    "I want to find the best parobola to fit the data. f(x) = ax^2+bx+c. Unknowns are a,b,c. It is linear in unknowns. We can solve this using least squares. $D = \\lbrace x_i,y_i\\rbrace_{i=1}^n$. What are a,b,c such that it minimizes the errors. Define our loss unfunction as $$L(a,b,c) =  \\frac{1}{n}\\sum_{=1}{n}(f(x_i)-y_i)^2$$"
   ]
  },
  {
   "cell_type": "markdown",
   "metadata": {},
   "source": [
    "This is a linear algebra problem because unknowns are linear. So we can show this using matrix notation. Let z = (a,b,c)^T"
   ]
  },
  {
   "cell_type": "markdown",
   "metadata": {},
   "source": [
    "### Curve Fitting Example"
   ]
  },
  {
   "cell_type": "code",
   "execution_count": 35,
   "metadata": {},
   "outputs": [
    {
     "data": {
      "image/png": "[encoded data removed]",
      "text/plain": [
       "<Figure size 432x288 with 1 Axes>"
      ]
     },
     "metadata": {
      "needs_background": "light"
     },
     "output_type": "display_data"
    }
   ],
   "source": [
    "import matplotlib.pyplot as plt\n",
    "data = np.array([(0,1),(1,2),(2,0),(3,3)])\n",
    "plt.plot(data[:,0], data[:,1],\"*\")\n",
    "plt.show()"
   ]
  },
  {
   "cell_type": "code",
   "execution_count": 36,
   "metadata": {},
   "outputs": [
    {
     "name": "stdout",
     "output_type": "stream",
     "text": [
      "[[0 1]\n",
      " [1 2]\n",
      " [2 0]\n",
      " [3 3]]\n"
     ]
    }
   ],
   "source": [
    "print(data)"
   ]
  },
  {
   "cell_type": "code",
   "execution_count": 38,
   "metadata": {},
   "outputs": [
    {
     "data": {
      "text/plain": [
       "array([[0., 0., 1.],\n",
       "       [1., 1., 1.],\n",
       "       [4., 2., 1.],\n",
       "       [9., 3., 1.]])"
      ]
     },
     "execution_count": 38,
     "metadata": {},
     "output_type": "execute_result"
    }
   ],
   "source": [
    "A = np.vstack((data[:,0]**2,data[:,0],np.ones(4))).T\n",
    "A"
   ]
  },
  {
   "cell_type": "markdown",
   "metadata": {},
   "source": [
    "$\\theta = (A^T*A)^{-1}A^{-1}b$"
   ]
  },
  {
   "cell_type": "code",
   "execution_count": 40,
   "metadata": {},
   "outputs": [
    {
     "name": "stdout",
     "output_type": "stream",
     "text": [
      "[ 0.5 -1.1  1.4]\n"
     ]
    }
   ],
   "source": [
    "theta = inv(A.T@A)@A.T@data[:,1]\n",
    "print(theta)"
   ]
  },
  {
   "cell_type": "code",
   "execution_count": 46,
   "metadata": {},
   "outputs": [
    {
     "data": {
      "image/png": "[encoded data removed]",
      "text/plain": [
       "<Figure size 432x288 with 1 Axes>"
      ]
     },
     "metadata": {
      "needs_background": "light"
     },
     "output_type": "display_data"
    }
   ],
   "source": [
    "x = np.linspace(0,3,100)\n",
    "y = theta[0]*x**2+theta[1]*x+theta[2]\n",
    "plt.plot(data[:,0],data[:,1],'*',x,y,'-')\n",
    "plt.show()"
   ]
  },
  {
   "cell_type": "code",
   "execution_count": 48,
   "metadata": {},
   "outputs": [
    {
     "name": "stdout",
     "output_type": "stream",
     "text": [
      "4\n"
     ]
    }
   ],
   "source": [
    "#Set\n",
    "n = data.shape[0]\n",
    "print(n)"
   ]
  },
  {
   "cell_type": "code",
   "execution_count": 49,
   "metadata": {},
   "outputs": [],
   "source": [
    "def loss(theta):\n",
    "    loss = 0\n",
    "    for k in range(n):\n",
    "        x = data[k,0]#this is ineffec.\n",
    "        y = data[k,1]#this is ineffec.\n",
    "        loss +=(theta[0]*x**2+theta[1]*x+theta[2]-y)**2\n",
    "    return loss/n\n",
    "        "
   ]
  },
  {
   "cell_type": "code",
   "execution_count": 53,
   "metadata": {},
   "outputs": [
    {
     "data": {
      "text/plain": [
       "0.7999999999999999"
      ]
     },
     "execution_count": 53,
     "metadata": {},
     "output_type": "execute_result"
    }
   ],
   "source": [
    "# Now let us test is.\n",
    "theta = np.array([1,2,3])\n",
    "\n",
    "theta = np.array([0.5,-1.1 ,1.4])\n",
    "loss(theta)"
   ]
  },
  {
   "cell_type": "code",
   "execution_count": 57,
   "metadata": {},
   "outputs": [
    {
     "name": "stdout",
     "output_type": "stream",
     "text": [
      "[-2.22044605e-15 -8.88178420e-16 -4.44089210e-16]\n"
     ]
    }
   ],
   "source": [
    "df =grad(loss)\n",
    "theta = np.array([0.7,-1,2]) # this is my inital guess\n",
    "theta = np.array([0.5,-1.1 ,1.4])\n",
    "print(df(theta))# something is not good because it is going to zero. so let us change the learning rate\n",
    "#for k in range(500):\n",
    " #   theta =  gradient_descent(theta,0.1)\n",
    "#print(theta)"
   ]
  },
  {
   "cell_type": "code",
   "execution_count": 61,
   "metadata": {},
   "outputs": [
    {
     "name": "stdout",
     "output_type": "stream",
     "text": [
      "[ 0.5 -1.1  1.4]\n"
     ]
    }
   ],
   "source": [
    "df =grad(loss)\n",
    "theta = np.array([0.7,-1,2]) # this is my inital guess\n",
    "#theta = np.array([0.5,-1.1 ,1.4])\n",
    "#print(df(theta))# something is not good because it is going to zero. so let us change the learning rate\n",
    "for k in range(50000):\n",
    "    theta =  gradient_descent(theta,0.005)\n",
    "print(theta)"
   ]
  },
  {
   "cell_type": "markdown",
   "metadata": {},
   "source": [
    "Autograd is numerical approximation using slopes."
   ]
  },
  {
   "cell_type": "markdown",
   "metadata": {},
   "source": [
    "## Optimization problems with contraints"
   ]
  },
  {
   "cell_type": "markdown",
   "metadata": {},
   "source": [
    "Will be added later."
   ]
  }
 ],
 "metadata": {
  "kernelspec": {
   "display_name": "Python 3",
   "language": "python",
   "name": "python3"
  },
  "language_info": {
   "codemirror_mode": {
    "name": "ipython",
    "version": 3
   },
   "file_extension": ".py",
   "mimetype": "text/x-python",
   "name": "python",
   "nbconvert_exporter": "python",
   "pygments_lexer": "ipython3",
   "version": "3.7.3"
  }
 },
 "nbformat": 4,
 "nbformat_minor": 4
}
